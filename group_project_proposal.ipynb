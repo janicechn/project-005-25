{
 "cells": [
  {
   "cell_type": "markdown",
   "id": "c64e8c26-72f7-489a-9430-02492e146e76",
   "metadata": {},
   "source": [
    "# TITLE\n",
    "\n",
    "#### DSCI100 project-005-25 Group Project Proposal\n",
    "##### *By Janice Chan, Sarah Hong, Samreen Kaur, Sota Uehara*"
   ]
  },
  {
   "cell_type": "markdown",
   "id": "36926049-4d17-4808-88db-adc7d503b2ad",
   "metadata": {},
   "source": [
    "**note from janice:** text is enclosed in * below just to italicize them, we'll probably just type it without using italics or bold (bold is enclosing text in ** if you wanna know lol). to do bullet points, just use - and a space before the text. you can also do indenting bullet points but space or tab i forgot. Also while were writing, pls keep in mind: 500 words is the limit for everything collectively!!!"
   ]
  },
  {
   "cell_type": "markdown",
   "id": "8335b3f3-9209-441a-80ef-45fd160ceb60",
   "metadata": {},
   "source": [
    "*insert introduction here*\n",
    "- *Provide some relevant background information on the topic so that someone unfamiliar with it will be prepared to understand the rest of your proposal*\n",
    "- *Clearly state the question you will try to answer with your project*\n",
    "- *Identify and describe the dataset that will be used to answer the question*"
   ]
  },
  {
   "cell_type": "markdown",
   "id": "d6e0c5bf-d076-4bde-8402-1b792e73eaf4",
   "metadata": {},
   "source": [
    "*insert preliminary exploratory data analysis here*\n",
    "- *Demonstrate that the dataset can be read from the web into R*\n",
    "- *Clean and wrangle your data into a tidy format*\n",
    "- *Using only training data, summarize the data in at least one table (this is exploratory data analysis).*\n",
    "    - *An example of a useful table could be one that reports the number of observations in each class, the means of the predictor variables you plan to use in your analysis and how many rows have missing data.* \n",
    "- *Using only training data, visualize the data with at least one plot relevant to the analysis you plan to do (this is exploratory data analysis).*\n",
    "    - *An example of a useful visualization could be one that compares the distributions of each of the predictor variables you plan to use in your analysis.*"
   ]
  },
  {
   "cell_type": "markdown",
   "id": "138f67a3-e7c9-48f9-96f1-e50532822373",
   "metadata": {},
   "source": [
    "*insert method here*\n",
    "- *Explain how you will conduct either your data analysis and which variables/columns you will use.*\n",
    "  - *Note: you do not need to use all variables/columns that exist in the raw data set. In fact, that's often not a good idea. For each variable think: is this a useful variable for prediction?*\n",
    "- *Describe at least one way that you will visualize the results*"
   ]
  },
  {
   "cell_type": "markdown",
   "id": "fcd63467-0531-4b47-b21f-b91e29e0e845",
   "metadata": {},
   "source": [
    "*insert expected outcomes and significance here*\n",
    " - *What do you expect to find?*\n",
    " - *What impact could such findings have?*\n",
    " - *What future questions could this lead to?*"
   ]
  },
  {
   "cell_type": "code",
   "execution_count": null,
   "id": "8e393b70-f886-4b30-90c0-1fa4a57a924c",
   "metadata": {},
   "outputs": [],
   "source": []
  }
 ],
 "metadata": {
  "kernelspec": {
   "display_name": "R",
   "language": "R",
   "name": "ir"
  },
  "language_info": {
   "name": ""
  }
 },
 "nbformat": 4,
 "nbformat_minor": 5
}
