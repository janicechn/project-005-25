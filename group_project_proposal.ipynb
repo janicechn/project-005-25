{
 "cells": [
  {
   "cell_type": "markdown",
   "id": "c64e8c26-72f7-489a-9430-02492e146e76",
   "metadata": {
    "tags": []
   },
   "source": [
    "# User’s Knowledge Level Based on Exam Performances\n",
    "\n",
    "#### DSCI100 project-005-25 Group Project Proposal\n",
    "##### *By Janice Chan, Sarah Hong, Samreen Kaur, Sota Uehara*"
   ]
  },
  {
   "cell_type": "markdown",
   "id": "8335b3f3-9209-441a-80ef-45fd160ceb60",
   "metadata": {},
   "source": [
    "Thus, our project question is: based on user exam performance for related objects with goal objects (LPR) and user exam performance for goal object (PEG), would we be able to predict what the user’s knowledge level is? We will be using the user knowledge modelling dataset folder to access the provided training and testing data frames of the users’ LPR, PEG and user knowledge level (UNS)."
   ]
  },
  {
   "cell_type": "code",
   "execution_count": null,
   "id": "3af9a618-53d1-40f9-9d11-81a0697d6e48",
   "metadata": {},
   "outputs": [],
   "source": [
    "# load packages\n",
    "library(tidyverse)\n",
    "library(readxl)\n",
    "library(repr)\n",
    "# read, wrangle, clean, summarize data (given training and testing data)\n",
    "user_train = read_excel(\"data/Data_User_Modeling_Dataset_Hamdi Tolga KAHRAMAN.xls\", sheet = 2) %>%\n",
    "            select(LPR, PEG, UNS) %>%\n",
    "            mutate(UNS = as.factor(UNS))\n",
    "user_test = read_excel(\"data/Data_User_Modeling_Dataset_Hamdi Tolga KAHRAMAN.xls\", sheet = 3) %>%\n",
    "            select(LPR, PEG, UNS) %>%\n",
    "            mutate(UNS = as.factor(UNS))\n",
    "user_train\n",
    "user_test\n",
    "# visualizing training data\n",
    "options(repr.plot.width = 12, repr.plot.height = 8)\n",
    "user_train_plot = user_train %>%\n",
    "        ggplot(aes(x = LPR, y = PEG, colour = UNS)) +\n",
    "        labs(x = \"Exam performance of user for related objects with goal object (LPR)\",y = \"Exam performance of user for goal objects (PEG)\", colour = 'User Knowledge Level') +\n",
    "        ggtitle(\"PEG vs. LPR\") +\n",
    "        geom_point() +\n",
    "        theme(text = element_text(size = 17))\n",
    "user_train_plot"
   ]
  },
  {
   "cell_type": "markdown",
   "id": "138f67a3-e7c9-48f9-96f1-e50532822373",
   "metadata": {},
   "source": [
    "We can visualize the results by creating a scatterplot of PEG vs LPR with point shape representing UNS and gradation of point colour representing the probability of predicting UNS correctly–where shade going light to dark with respect to increasing probability. Another way we can visualize the results is to create a clustered scatterplot with the probability of predicting UNS correctly vs. user experience, with each cluster being PEG and LPR coloured separately and representing UNS by shape."
   ]
  },
  {
   "cell_type": "markdown",
   "id": "fcd63467-0531-4b47-b21f-b91e29e0e845",
   "metadata": {},
   "source": [
    "We expect to see a strong positive correlation between PEG and UNS level, and a moderate positive relationship between LPR and UNS level since PEG demonstrates the user's understanding of the core goal objectives, while LPR indicates the user's grasp of the details behind the main goal objectives. We anticipate that the probability of accurately predicting the UNS level is high, as exam performances should reflect the user’s understanding.\n",
    "Given our prediction of a high probability of predicting correct UNS, our findings can illustrate relationships in whether spending more time on getting a higher PEG vs higher LPR can reflect a better user knowledge level. In turn, this can impact students and teachers with how they should be directing their learning and teaching goals. Based on our prediction of the results, students and teachers can spend more time focusing on goal objectives rather than their related objectives.\n",
    "The findings of our project could lead to future discovery on how studying time on goal objectives vs related objects to goal objectives impacts PEG and LPR. We can also compare how different teaching styles of focusing on goal objectives vs related objects to goal objectives may affect user knowledge or performance."
   ]
  }
 ],
 "metadata": {
  "kernelspec": {
   "display_name": "R",
   "language": "R",
   "name": "ir"
  },
  "language_info": {
   "codemirror_mode": "r",
   "file_extension": ".r",
   "mimetype": "text/x-r-source",
   "name": "R",
   "pygments_lexer": "r",
   "version": "4.1.2"
  }
 },
 "nbformat": 4,
 "nbformat_minor": 5
}
