{
 "cells": [
  {
   "cell_type": "markdown",
   "id": "c64e8c26-72f7-489a-9430-02492e146e76",
   "metadata": {
    "tags": []
   },
   "source": [
    "# TITLE\n",
    "\n",
    "#### DSCI100 project-005-25 Group Project Proposal\n",
    "##### *By Janice Chan, Sarah Hong, Samreen Kaur, Sota Uehara*"
   ]
  },
  {
   "cell_type": "markdown",
   "id": "8335b3f3-9209-441a-80ef-45fd160ceb60",
   "metadata": {},
   "source": [
    "*insert introduction here*\n",
    "- *Provide some relevant background information on the topic so that someone unfamiliar with it will be prepared to understand the rest of your proposal*\n",
    "- *Clearly state the question you will try to answer with your project*\n",
    "- *Identify and describe the dataset that will be used to answer the question*"
   ]
  },
  {
   "cell_type": "code",
   "execution_count": null,
   "id": "3af9a618-53d1-40f9-9d11-81a0697d6e48",
   "metadata": {},
   "outputs": [],
   "source": []
  },
  {
   "cell_type": "markdown",
   "id": "138f67a3-e7c9-48f9-96f1-e50532822373",
   "metadata": {},
   "source": [
    "*insert method here*\n",
    "- *Explain how you will conduct either your data analysis and which variables/columns you will use.*\n",
    "  - *Note: you do not need to use all variables/columns that exist in the raw data set. In fact, that's often not a good idea. For each variable think: is this a useful variable for prediction?*\n",
    "- *Describe at least one way that you will visualize the results*"
   ]
  },
  {
   "cell_type": "markdown",
   "id": "fcd63467-0531-4b47-b21f-b91e29e0e845",
   "metadata": {},
   "source": [
    "*insert expected outcomes and significance here*\n",
    " - *What do you expect to find?*\n",
    " - *What impact could such findings have?*\n",
    " - *What future questions could this lead to?*"
   ]
  }
 ],
 "metadata": {
  "kernelspec": {
   "display_name": "R",
   "language": "R",
   "name": "ir"
  },
  "language_info": {
   "codemirror_mode": "r",
   "file_extension": ".r",
   "mimetype": "text/x-r-source",
   "name": "R",
   "pygments_lexer": "r",
   "version": "4.1.2"
  }
 },
 "nbformat": 4,
 "nbformat_minor": 5
}
