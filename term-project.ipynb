{
 "cells": [
  {
   "cell_type": "code",
   "execution_count": null,
   "id": "dc392437-9b31-4ba9-9341-61680afbc1da",
   "metadata": {},
   "outputs": [],
   "source": [
    "# Load packages\n",
    "library(tidyverse)\n",
    "library(readxl)\n",
    "library(repr)"
   ]
  },
  {
   "cell_type": "code",
   "execution_count": null,
   "id": "688e7915-7907-4872-904b-d7c4404873e2",
   "metadata": {},
   "outputs": [],
   "source": [
    "# set seed for reproducibility\n",
    "set.seed(1234)\n",
    "# load data; already split training and testing data\n",
    "url = \"https://archive.ics.uci.edu/ml/machine-learning-databases/00257/Data_User_Modeling_Dataset_Hamdi%20Tolga%20KAHRAMAN.xls\"\n",
    "data = download.file(url, destfile = \"user.xls\")\n",
    "user_train = read_excel(\"user.xls\", sheet = 2) %>%\n",
    "            select(LPR, PEG, UNS) %>%\n",
    "            mutate(UNS = as.factor(UNS))\n",
    "user_test = read_excel(\"user.xls\", sheet = 3) %>%\n",
    "            select(LPR, PEG, UNS) %>%\n",
    "            mutate(UNS = as.factor(UNS))\n",
    "head(user_train)\n",
    "head(user_test)"
   ]
  },
  {
   "cell_type": "code",
   "execution_count": null,
   "id": "af687e99-723b-4916-9fd0-116bbe4de697",
   "metadata": {},
   "outputs": [],
   "source": [
    "# visualizing training data\n",
    "options(repr.plot.width = 12, repr.plot.height = 8) # for display\n",
    "user_train_plot = user_train %>%\n",
    "        ggplot(aes(x = LPR, y = PEG, colour = UNS)) +\n",
    "        labs(x = \"Exam performance of user for related objects with goal object (LPR)\",y = \"Exam performance of user for goal objects (PEG)\", colour = 'User Knowledge Level') +\n",
    "        ggtitle(\"PEG vs. LPR\") +\n",
    "        geom_point() +\n",
    "        theme(text = element_text(size = 17))\n",
    "user_train_plot"
   ]
  },
  {
   "cell_type": "code",
   "execution_count": null,
   "id": "921f24a7-8d6b-4860-af43-590e658a6924",
   "metadata": {},
   "outputs": [],
   "source": [
    "# prepare for data modelling\n",
    "user_recipe <- recipe(UNS ~ LPR + PEG , data = user_train) %>%\n",
    "      step_scale(all_predictors()) %>%\n",
    "      step_center(all_predictors())\n",
    "# create classifier and using cross-validation for parameter value selection (K)\n",
    "knn_spec <- nearest_neighbor(weight_func = \"rectangular\", neighbors = tune()) %>%\n",
    "      set_engine(\"kknn\") %>%\n",
    "      set_mode(\"classification\")\n",
    "# 5-fold cross-validation\n",
    "user_vfold <- vfold_cv(user_train, v = 5, strata = \"UNS\")\n",
    "k_vals <- tibble(neighbors = seq(from = 1, to = 100, by = 5))\n",
    "# train classifier with training data\n",
    "user_results <- workflow() %>%\n",
    "      add_recipe(user_recipe) %>%\n",
    "      add_model(knn_spec) %>%\n",
    "      tune_grid(user_vfold, grid = k_vals) %>%\n",
    "      collect_metrics()\n",
    "user_results\n",
    "# look for K with highest accuracy\n",
    "accuracies <- knn_results %>%\n",
    "      filter(.metric == \"accuracy\")\n",
    "accuracies\n",
    "accuracy_vs_k <- ggplot(accuracies, aes(x = neighbors, y= mean)) +\n",
    "      geom_point() + \n",
    "      geom_line() +\n",
    "      labs(x = \"Neighbors\", y = \"Accuracy Estimate\") + \n",
    "      theme(text = element_text(size = 12)) +\n",
    "      scale_x_continuous(breaks = seq(0, 14, by = 1)) +  # adjusting the x-axis\n",
    "      scale_y_continuous(limits = c(0.4, 1.0)) # adjusting the y-axis\n",
    "accuracy_vs_k"
   ]
  },
  {
   "cell_type": "code",
   "execution_count": null,
   "id": "627bf078-0e23-4412-b32e-abe9b2aa22a6",
   "metadata": {},
   "outputs": [],
   "source": [
    "# final model with best value K\n",
    "final_spec <- nearest_neighbor(weight_func = \"rectangular\", neighbors = ) %>%\n",
    "      set_engine(\"kknn\") %>%\n",
    "      set_mode(\"classification\") %>%\n",
    "\n",
    "final_fit <- workflow() %>%\n",
    "      add_recipe(user_recipe) %>%\n",
    "      add_model(final_spec) %>%\n",
    "      fit(data = data_train)\n",
    "\n",
    "# predict labels for testing data\n",
    "final_predictions <- predict(final_fit, user_test) %>%\n",
    "      bind_cols(user_test)\n",
    "final_predictions\n",
    "# find statistics about our model quality\n",
    "final_metrics <- final_predictions %>%\n",
    "      metrics(truth = UNS, estimate = .pred_class)\n",
    "final_metrics\n",
    "# confusion matrix for classifier\n",
    "final_conf_mat <- final_predictions %>%\n",
    "      conf_mat(truth = UNS, estimate = .pred_class)\n",
    "final_conf_mat"
   ]
  },
  {
   "cell_type": "code",
   "execution_count": null,
   "id": "57ee322f-c0cc-4241-a1ba-d401e6b25532",
   "metadata": {},
   "outputs": [],
   "source": []
  }
 ],
 "metadata": {
  "kernelspec": {
   "display_name": "R",
   "language": "R",
   "name": "ir"
  },
  "language_info": {
   "codemirror_mode": "r",
   "file_extension": ".r",
   "mimetype": "text/x-r-source",
   "name": "R",
   "pygments_lexer": "r",
   "version": "4.1.2"
  }
 },
 "nbformat": 4,
 "nbformat_minor": 5
}
