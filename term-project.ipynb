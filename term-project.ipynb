{
 "cells": [
  {
   "cell_type": "code",
   "execution_count": null,
   "id": "dc392437-9b31-4ba9-9341-61680afbc1da",
   "metadata": {},
   "outputs": [],
   "source": [
    "library(tidyverse)"
   ]
  },
  {
   "cell_type": "code",
   "execution_count": null,
   "id": "688e7915-7907-4872-904b-d7c4404873e2",
   "metadata": {},
   "outputs": [],
   "source": [
    "# Data of Player Stats for Top 500 Players\n",
    "player_data = read_csv(\"data/player_stats.csv\")\n",
    "\n",
    "# Data of Game results for Top 500 Players from 2017-2019\n",
    "game_data = read_csv(\"data/atp2017-2019.csv\")"
   ]
  },
  {
   "cell_type": "code",
   "execution_count": null,
   "id": "af687e99-723b-4916-9fd0-116bbe4de697",
   "metadata": {},
   "outputs": [],
   "source": []
  }
 ],
 "metadata": {
  "kernelspec": {
   "display_name": "R",
   "language": "R",
   "name": "ir"
  },
  "language_info": {
   "name": ""
  }
 },
 "nbformat": 4,
 "nbformat_minor": 5
}
