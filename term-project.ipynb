{
 "cells": [
  {
   "cell_type": "code",
   "execution_count": null,
   "id": "dc392437-9b31-4ba9-9341-61680afbc1da",
   "metadata": {},
   "outputs": [],
   "source": [
    "# Load packages\n",
    "library(tidyverse)\n",
    "library(tidymodels)\n",
    "library(recipes)\n",
    "library(readxl)\n",
    "library(repr)\n",
    "library(ggplot2)"
   ]
  },
  {
   "cell_type": "code",
   "execution_count": null,
   "id": "688e7915-7907-4872-904b-d7c4404873e2",
   "metadata": {},
   "outputs": [],
   "source": [
    "# set seed for reproducibility\n",
    "set.seed(1234)\n",
    "# load data; already split training and testing data\n",
    "url = \"https://archive.ics.uci.edu/ml/machine-learning-databases/00257/Data_User_Modeling_Dataset_Hamdi%20Tolga%20KAHRAMAN.xls\"\n",
    "data = download.file(url, destfile = \"user.xls\")\n",
    "user_train = read_excel(\"user.xls\", sheet = 2) %>%\n",
    "            select(LPR, PEG, UNS) %>%\n",
    "            mutate(UNS = as.factor(UNS))\n",
    "user_test = read_excel(\"user.xls\", sheet = 3) %>%\n",
    "            select(LPR, PEG, UNS) %>%\n",
    "            mutate(UNS = as.factor(UNS))\n",
    "user_train$UNS <- recode_factor(user_train$UNS, very_low = \"Very Low\")"
   ]
  },
  {
   "cell_type": "markdown",
   "id": "fac713cc-17f6-4d10-9e75-40df12f516fe",
   "metadata": {},
   "source": [
    "Table 1. First Portion of Training Data"
   ]
  },
  {
   "cell_type": "code",
   "execution_count": null,
   "id": "a0cf5ab6-8b29-4093-bbb2-785333a1f8dd",
   "metadata": {},
   "outputs": [],
   "source": [
    "head(user_train)"
   ]
  },
  {
   "cell_type": "markdown",
   "id": "bdba3e62-12af-4060-a46e-0ea2591a93e1",
   "metadata": {},
   "source": [
    "Table 2. First Portion of Testing Data"
   ]
  },
  {
   "cell_type": "code",
   "execution_count": null,
   "id": "d7c566eb-ac69-4ec7-af02-dac1433ed996",
   "metadata": {},
   "outputs": [],
   "source": [
    "head(user_test)"
   ]
  },
  {
   "cell_type": "markdown",
   "id": "d5f114bd-0ad5-4f8b-a291-a3291a691df1",
   "metadata": {},
   "source": [
    "Table 3. Summary of Training Data"
   ]
  },
  {
   "cell_type": "code",
   "execution_count": null,
   "id": "2a9268f8-7b96-4688-8a8e-a4c96ea2b954",
   "metadata": {},
   "outputs": [],
   "source": [
    "summary(user_train)"
   ]
  },
  {
   "cell_type": "markdown",
   "id": "1fb18714-92eb-41f3-8066-ce73331bdb87",
   "metadata": {},
   "source": [
    "Table 4. Summary of Testing Data"
   ]
  },
  {
   "cell_type": "code",
   "execution_count": null,
   "id": "3dc750e8-2bf4-4c6e-bbf6-99d733e3eb97",
   "metadata": {},
   "outputs": [],
   "source": [
    "summary(user_test)"
   ]
  },
  {
   "cell_type": "markdown",
   "id": "e82e901c-8ca3-49fe-bd2b-a1cb5a3e4743",
   "metadata": {},
   "source": [
    "Figure 1. Training Data Plot"
   ]
  },
  {
   "cell_type": "code",
   "execution_count": null,
   "id": "af687e99-723b-4916-9fd0-116bbe4de697",
   "metadata": {},
   "outputs": [],
   "source": [
    "# visualizing training data\n",
    "options(repr.plot.width = 12, repr.plot.height = 8) # for display\n",
    "user_train_plot = user_train %>%\n",
    "        ggplot(aes(x = LPR, y = PEG, colour = UNS)) +\n",
    "        labs(x = \"Exam performance of user for related objects with goal object (LPR)\", y = \"Exam performance of user for goal objects (PEG)\", colour = 'User Knowledge Level') +\n",
    "        ggtitle(\"PEG vs. LPR\") +\n",
    "        geom_point() +\n",
    "        theme(text = element_text(size = 17))\n",
    "user_train_plot"
   ]
  },
  {
   "cell_type": "code",
   "execution_count": null,
   "id": "921f24a7-8d6b-4860-af43-590e658a6924",
   "metadata": {},
   "outputs": [],
   "source": [
    "# prepare for data modelling for BOTH LPR AND PEG - MODEL 1\n",
    "user_recipe <- recipe(UNS ~ LPR + PEG , data = user_train)\n",
    "# create classifier and using cross-validation for parameter value selection (K)\n",
    "knn_spec <- nearest_neighbor(weight_func = \"rectangular\", neighbors = tune()) %>%\n",
    "      set_engine(\"kknn\") %>%\n",
    "      set_mode(\"classification\")\n",
    "# 5-fold cross-validation\n",
    "user_vfold <- vfold_cv(user_train, v = 5, strata = \"UNS\")\n",
    "k_vals <- tibble(neighbors = seq(from = 1, to = 100, by = 5))\n",
    "# train classifier with training data\n",
    "user_results <- workflow() %>%\n",
    "      add_recipe(user_recipe) %>%\n",
    "      add_model(knn_spec) %>%\n",
    "      tune_grid(user_vfold, grid = k_vals) %>%\n",
    "      collect_metrics()"
   ]
  },
  {
   "cell_type": "markdown",
   "id": "5c89dbd2-4722-4223-a0c2-561def119450",
   "metadata": {},
   "source": [
    "Table 5. Accuracies of Classifier for Model 1"
   ]
  },
  {
   "cell_type": "code",
   "execution_count": null,
   "id": "1afd0d0a-5b0c-408f-8f07-0eb242d09bc0",
   "metadata": {},
   "outputs": [],
   "source": [
    "accuracies <- user_results %>%\n",
    "      filter(.metric == \"accuracy\")\n",
    "head(accuracies)"
   ]
  },
  {
   "cell_type": "markdown",
   "id": "f6a9a22e-348c-4712-9e12-ba4648610162",
   "metadata": {},
   "source": [
    "Figure 2. Accuracy vs K for Model 1"
   ]
  },
  {
   "cell_type": "code",
   "execution_count": null,
   "id": "d1ffafd1-8e98-445b-aa7b-998d46807408",
   "metadata": {},
   "outputs": [],
   "source": [
    "# look for K with highest accuracy\n",
    "accuracy_vs_k <- ggplot(accuracies, aes(x = neighbors, y= mean)) +\n",
    "      geom_point() + \n",
    "      geom_line() +\n",
    "      labs(x = \"Neighbors\", y = \"Accuracy Estimate\") + \n",
    "      theme(text = element_text(size = 12))\n",
    "accuracy_vs_k"
   ]
  },
  {
   "cell_type": "code",
   "execution_count": null,
   "id": "627bf078-0e23-4412-b32e-abe9b2aa22a6",
   "metadata": {},
   "outputs": [],
   "source": [
    "# from accuracy_vs_k above, we see 6 is the best value for K\n",
    "# final model with best value K\n",
    "final_spec <- nearest_neighbor(weight_func = \"rectangular\", neighbors = 6) %>%\n",
    "      set_engine(\"kknn\") %>%\n",
    "      set_mode(\"classification\")\n",
    "\n",
    "final_fit <- workflow() %>%\n",
    "      add_recipe(user_recipe) %>%\n",
    "      add_model(final_spec) %>%\n",
    "      fit(data = user_train)"
   ]
  },
  {
   "cell_type": "markdown",
   "id": "857771e8-f11f-4780-b1b7-586ca1553c59",
   "metadata": {},
   "source": [
    "Table 6. Prediction Labels of Model 1 Classifier for Testing Data"
   ]
  },
  {
   "cell_type": "code",
   "execution_count": null,
   "id": "74ac1b73-6bc6-4ce5-99c8-eba39f4490bf",
   "metadata": {},
   "outputs": [],
   "source": [
    "# predict labels for testing data\n",
    "final_predictions <- predict(final_fit, user_test) %>%\n",
    "      bind_cols(user_test)\n",
    "head(final_predictions)"
   ]
  },
  {
   "cell_type": "markdown",
   "id": "6c7f8312-48db-4570-8eea-a481806909fe",
   "metadata": {},
   "source": [
    "Table 7. Statistics of Model 1 Quality"
   ]
  },
  {
   "cell_type": "code",
   "execution_count": null,
   "id": "5fc529eb-0d8c-46e4-957e-2eb29d55bd9c",
   "metadata": {},
   "outputs": [],
   "source": [
    "# keeping the values of levels in estimate and truth classes same\n",
    "final_predictions$.pred_class <- factor(final_predictions$.pred_class, levels = c(\"High\", \"Low\", \"Middle\", \"Very Low\"))\n",
    "# find statistics about our model quality\n",
    "final_metrics <- final_predictions %>%\n",
    "      metrics(truth = UNS, estimate = .pred_class)\n",
    "final_metrics"
   ]
  },
  {
   "cell_type": "markdown",
   "id": "b97214ba-e298-437d-b2db-129c208072aa",
   "metadata": {},
   "source": [
    "Table 8. Confusion Matrix for Model 1 Classifier"
   ]
  },
  {
   "cell_type": "code",
   "execution_count": null,
   "id": "ff10ebb4-a5cc-4074-b500-7cdaba674ad6",
   "metadata": {},
   "outputs": [],
   "source": [
    "# confusion matrix for classifier\n",
    "final_conf_mat <- final_predictions %>%\n",
    "      conf_mat(truth = UNS, estimate = .pred_class)\n",
    "final_conf_mat"
   ]
  },
  {
   "cell_type": "markdown",
   "id": "56f23556-b2bd-4b44-9185-02c7a0336655",
   "metadata": {},
   "source": [
    "Figure 3. Classification Mosaic Diagram of Model 1"
   ]
  },
  {
   "cell_type": "code",
   "execution_count": null,
   "id": "123b81ac-eaed-4a90-941e-b2887edf636e",
   "metadata": {},
   "outputs": [],
   "source": [
    "# Visualization of analysis for Model 1\n",
    "autoplot(final_conf_mat, type = \"mosaic\")"
   ]
  },
  {
   "cell_type": "code",
   "execution_count": null,
   "id": "57ee322f-c0cc-4241-a1ba-d401e6b25532",
   "metadata": {},
   "outputs": [],
   "source": [
    "# prepare for data modelling for LPR ONLY - MODEL 2\n",
    "lpr_recipe <- recipe(UNS ~ LPR, data = user_train)\n",
    "# create classifier and using cross-validation for parameter value selection (K)\n",
    "lpr_knn_spec <- nearest_neighbor(weight_func = \"rectangular\", neighbors = tune()) %>%\n",
    "      set_engine(\"kknn\") %>%\n",
    "      set_mode(\"classification\")\n",
    "# train classifier with training data\n",
    "lpr_results <- workflow() %>%\n",
    "      add_recipe(lpr_recipe) %>%\n",
    "      add_model(lpr_knn_spec) %>%\n",
    "      tune_grid(user_vfold, grid = k_vals) %>%\n",
    "      collect_metrics()"
   ]
  },
  {
   "cell_type": "markdown",
   "id": "d67b4f49-f8df-4a83-8762-53cd101d1cea",
   "metadata": {},
   "source": [
    "Table 9. Accuracies of Classifier for Model 2"
   ]
  },
  {
   "cell_type": "code",
   "execution_count": null,
   "id": "d6cbb644-086c-4692-86bb-efda195221bd",
   "metadata": {},
   "outputs": [],
   "source": [
    "lpr_accuracies <- lpr_results %>%\n",
    "      filter(.metric == \"accuracy\")\n",
    "head(lpr_accuracies)"
   ]
  },
  {
   "cell_type": "markdown",
   "id": "e47eedc7-b127-40a9-8b0a-4d461ab21bff",
   "metadata": {},
   "source": [
    "Figure 4. Accuracy vs K for Model 2"
   ]
  },
  {
   "cell_type": "code",
   "execution_count": null,
   "id": "bb137899-562b-4d6f-b6cb-bf1bd986de43",
   "metadata": {},
   "outputs": [],
   "source": [
    "# look for K with highest accuracy\n",
    "lpr_accuracy_vs_k <- ggplot(lpr_accuracies, aes(x = neighbors, y= mean)) +\n",
    "      geom_point() + \n",
    "      geom_line() +\n",
    "      labs(x = \"Neighbors\", y = \"Accuracy Estimate\") + \n",
    "      theme(text = element_text(size = 12))\n",
    "lpr_accuracy_vs_k"
   ]
  },
  {
   "cell_type": "code",
   "execution_count": null,
   "id": "4ddc5b9c-72ad-4e62-b3f1-6ca73684c804",
   "metadata": {},
   "outputs": [],
   "source": [
    "# from accuracy_vs_k above, we see 16 is the best value for K\n",
    "# final model with best value K\n",
    "final_lpr_spec <- nearest_neighbor(weight_func = \"rectangular\", neighbors = 16) %>%\n",
    "      set_engine(\"kknn\") %>%\n",
    "      set_mode(\"classification\")\n",
    "\n",
    "final_lpr_fit <- workflow() %>%\n",
    "      add_recipe(lpr_recipe) %>%\n",
    "      add_model(final_lpr_spec) %>%\n",
    "      fit(data = user_train)"
   ]
  },
  {
   "cell_type": "markdown",
   "id": "762130e1-0f4d-4de4-8f39-b6fa539c6819",
   "metadata": {},
   "source": [
    "Table 10. Prediction Labels of Model 2 Classifier for Testing Data"
   ]
  },
  {
   "cell_type": "code",
   "execution_count": null,
   "id": "59ceb198-6ca8-4f6e-b3c0-e9d7f8b72468",
   "metadata": {},
   "outputs": [],
   "source": [
    "# predict labels for testing data\n",
    "final_lpr_predictions <- predict(final_lpr_fit, user_test) %>%\n",
    "      bind_cols(user_test)\n",
    "head(final_lpr_predictions)"
   ]
  },
  {
   "cell_type": "markdown",
   "id": "0d1ab612-74c5-46ea-a1c2-a3f7a8c85142",
   "metadata": {},
   "source": [
    "Table 11. Statistics of Model 2 Quality"
   ]
  },
  {
   "cell_type": "code",
   "execution_count": null,
   "id": "b254e7a7-6cf1-4b02-8072-5f9a436c0e8b",
   "metadata": {},
   "outputs": [],
   "source": [
    "# keeping the values of levels in estimate and truth classes same\n",
    "final_lpr_predictions$.pred_class <- factor(final_lpr_predictions$.pred_class, levels = c(\"High\", \"Low\", \"Middle\", \"Very Low\"))\n",
    "# find statistics about our model quality\n",
    "final_lpr_metrics <- final_lpr_predictions %>%\n",
    "      metrics(truth = UNS, estimate = .pred_class)\n",
    "final_lpr_metrics"
   ]
  },
  {
   "cell_type": "markdown",
   "id": "edb0ec9d-d933-4e06-89e0-db612de42d93",
   "metadata": {},
   "source": [
    "Table 12. Confusion Matrix for Model 2 Classifier"
   ]
  },
  {
   "cell_type": "code",
   "execution_count": null,
   "id": "8155b710-7a5b-4ebd-a95b-4f3998d25b7c",
   "metadata": {},
   "outputs": [],
   "source": [
    "# confusion matrix for classifier\n",
    "final_lpr_conf_mat <- final_lpr_predictions %>%\n",
    "      conf_mat(truth = UNS, estimate = .pred_class)\n",
    "final_lpr_conf_mat"
   ]
  },
  {
   "cell_type": "markdown",
   "id": "24e29d27-4cc6-4b66-8102-7a831ce2842b",
   "metadata": {},
   "source": [
    "Figure 5. Classification Mosaic Diagram of Model 2"
   ]
  },
  {
   "cell_type": "code",
   "execution_count": null,
   "id": "0c4ec466-dd9d-4498-9543-8e6901c3fcbe",
   "metadata": {},
   "outputs": [],
   "source": [
    "autoplot(final_lpr_conf_mat, type = \"mosaic\")"
   ]
  },
  {
   "cell_type": "code",
   "execution_count": null,
   "id": "b01cdd77-30a7-4891-9115-891bdca1ed5e",
   "metadata": {},
   "outputs": [],
   "source": [
    "# prepare for data modelling for PEG ONLY - MODEL 3\n",
    "peg_recipe <- recipe(UNS ~ PEG, data = user_train)\n",
    "# create classifier and using cross-validation for parameter value selection (K)\n",
    "peg_knn_spec <- nearest_neighbor(weight_func = \"rectangular\", neighbors = tune()) %>%\n",
    "      set_engine(\"kknn\") %>%\n",
    "      set_mode(\"classification\")\n",
    "# train classifier with training data\n",
    "peg_results <- workflow() %>%\n",
    "      add_recipe(peg_recipe) %>%\n",
    "      add_model(peg_knn_spec) %>%\n",
    "      tune_grid(user_vfold, grid = k_vals) %>%\n",
    "      collect_metrics()"
   ]
  },
  {
   "cell_type": "markdown",
   "id": "7f607b91-61ae-43ef-a201-89f37fd9b3d7",
   "metadata": {},
   "source": [
    "Table 13. Accuracies of Classifier for Model 3"
   ]
  },
  {
   "cell_type": "code",
   "execution_count": null,
   "id": "ddf30cb2-404e-41ef-8537-8e8d02074816",
   "metadata": {},
   "outputs": [],
   "source": [
    "peg_accuracies <- peg_results %>%\n",
    "      filter(.metric == \"accuracy\")\n",
    "head(peg_accuracies)"
   ]
  },
  {
   "cell_type": "markdown",
   "id": "5c2985e6-d977-4100-a6b7-15e14a8bd2a9",
   "metadata": {},
   "source": [
    "Figure 6. Accuracy vs K for Model 3"
   ]
  },
  {
   "cell_type": "code",
   "execution_count": null,
   "id": "51c84069-053b-4ab8-b4b4-5a92072be5b4",
   "metadata": {},
   "outputs": [],
   "source": [
    "# look for K with highest accuracy\n",
    "peg_accuracy_vs_k <- ggplot(peg_accuracies, aes(x = neighbors, y= mean)) +\n",
    "      geom_point() + \n",
    "      geom_line() +\n",
    "      labs(x = \"Neighbors\", y = \"Accuracy Estimate\") + \n",
    "      theme(text = element_text(size = 12))\n",
    "peg_accuracy_vs_k"
   ]
  },
  {
   "cell_type": "code",
   "execution_count": null,
   "id": "c8049942-d4d3-4382-a8ba-314f687e4204",
   "metadata": {},
   "outputs": [],
   "source": [
    "# from accuracy_vs_k above, we see 11 is the best value for K\n",
    "# final model with best value K\n",
    "final_peg_spec <- nearest_neighbor(weight_func = \"rectangular\", neighbors = 11) %>%\n",
    "      set_engine(\"kknn\") %>%\n",
    "      set_mode(\"classification\")\n",
    "\n",
    "final_peg_fit <- workflow() %>%\n",
    "      add_recipe(peg_recipe) %>%\n",
    "      add_model(final_peg_spec) %>%\n",
    "      fit(data = user_train)"
   ]
  },
  {
   "cell_type": "markdown",
   "id": "84efb314-88ae-4b65-a8f2-4fcf3d6d07f7",
   "metadata": {},
   "source": [
    "Table 14. Prediction Labels of Model 3 Classifier for Testing Data"
   ]
  },
  {
   "cell_type": "code",
   "execution_count": null,
   "id": "cd5436c5-ade1-48bc-9d6a-c44c5a2d7511",
   "metadata": {},
   "outputs": [],
   "source": [
    "# predict labels for testing data\n",
    "final_peg_predictions <- predict(final_peg_fit, user_test) %>%\n",
    "      bind_cols(user_test)\n",
    "head(final_peg_predictions)"
   ]
  },
  {
   "cell_type": "markdown",
   "id": "745116b8-3221-4b59-8a68-47872ec9fc73",
   "metadata": {},
   "source": [
    "Table 15. Statistics of Model 3 Quality"
   ]
  },
  {
   "cell_type": "code",
   "execution_count": null,
   "id": "f7b0cc1e-38c2-4e43-a8cc-132e3cfe236a",
   "metadata": {},
   "outputs": [],
   "source": [
    "# keeping the values of levels in estimate and truth classes same\n",
    "final_peg_predictions$.pred_class <- factor(final_peg_predictions$.pred_class, levels = c(\"High\", \"Low\", \"Middle\", \"Very Low\"))\n",
    "# find statistics about our model quality\n",
    "final_peg_metrics <- final_peg_predictions %>%\n",
    "      metrics(truth = UNS, estimate = .pred_class)\n",
    "final_peg_metrics"
   ]
  },
  {
   "cell_type": "markdown",
   "id": "69d181f5-4c1e-4199-9a93-9b6ba8a977de",
   "metadata": {},
   "source": [
    "Table 16. Confusion Matrix for Model 3 Classifier"
   ]
  },
  {
   "cell_type": "code",
   "execution_count": null,
   "id": "886367c2-401d-41c4-a06c-ea48d66ec839",
   "metadata": {},
   "outputs": [],
   "source": [
    "# confusion matrix for classifier\n",
    "final_peg_conf_mat <- final_peg_predictions %>%\n",
    "      conf_mat(truth = UNS, estimate = .pred_class)\n",
    "final_peg_conf_mat"
   ]
  },
  {
   "cell_type": "markdown",
   "id": "51a190a2-5e8c-41ec-b05b-d13eacba4b0e",
   "metadata": {},
   "source": [
    "Figure 6. Classification Mosaic Diagram of Model 3"
   ]
  },
  {
   "cell_type": "code",
   "execution_count": null,
   "id": "375df9d0-b18d-4793-bfe6-623535afae41",
   "metadata": {},
   "outputs": [],
   "source": [
    "# Visualization of analysis for Model 3\n",
    "autoplot(final_peg_conf_mat, type = \"mosaic\")"
   ]
  }
 ],
 "metadata": {
  "kernelspec": {
   "display_name": "R",
   "language": "R",
   "name": "ir"
  },
  "language_info": {
   "codemirror_mode": "r",
   "file_extension": ".r",
   "mimetype": "text/x-r-source",
   "name": "R",
   "pygments_lexer": "r",
   "version": "4.1.2"
  }
 },
 "nbformat": 4,
 "nbformat_minor": 5
}
